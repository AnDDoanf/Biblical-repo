{
 "cells": [
  {
   "cell_type": "code",
   "execution_count": 4,
   "metadata": {},
   "outputs": [],
   "source": [
    "import numpy as np\n",
    "import pandas as pd\n",
    "import string\n",
    "from sklearn.feature_extraction.text import CountVectorizer\n",
    "from nltk.stem.porter import PorterStemmer\n",
    "from sklearn.metrics.pairwise import cosine_similarity"
   ]
  },
  {
   "cell_type": "code",
   "execution_count": 5,
   "metadata": {},
   "outputs": [],
   "source": [
    "ps = PorterStemmer()\n",
    "def convert_book(book):\n",
    "    return [\"b\"+str(book)]\n",
    "def convert_chapter(chapter):\n",
    "    return [\"chapter\"+str(chapter)]\n",
    "def convert_versets(verse):\n",
    "    return [\"verse\"+str(verse)]\n",
    "def stem(text):\n",
    "  y = []\n",
    "  for i in text.split():\n",
    "    y.append(ps.stem(i))\n",
    "  return \" \".join(y)"
   ]
  },
  {
   "cell_type": "code",
   "execution_count": 6,
   "metadata": {},
   "outputs": [],
   "source": [
    "df = pd.read_csv(\"../datasets/t_kjv.csv\")\n",
    "df['b'] = df['b'].apply(convert_book)\n",
    "df['c'] = df['c'].apply(convert_chapter)\n",
    "df['v'] = df['v'].apply(convert_versets)\n",
    "df['t'] = df[\"t\"].apply(lambda x: x.split())\n",
    "\n",
    "data = pd.DataFrame()\n",
    "data['labels'] = df['b'] + df['c'] + df['v']\n",
    "data['tags'] = df['b'] + df['c'] + df['v'] + df['t']\n",
    "\n",
    "data[\"labels\"] = data[\"labels\"].apply(lambda x: ' '.join(x))\n",
    "data[\"tags\"] = data[\"tags\"].apply(lambda x: ' '.join(x))\n",
    "data[\"tags\"] = data[\"tags\"].apply(lambda x: x.lower())\n",
    "data[\"tags\"] = data[\"tags\"].apply(lambda x: x.translate(str.maketrans('', '', string.punctuation)))\n",
    "data[\"tags\"] = data[\"tags\"].apply(stem)"
   ]
  },
  {
   "cell_type": "code",
   "execution_count": 7,
   "metadata": {},
   "outputs": [],
   "source": [
    "data.to_csv(\"dataa.csv\")"
   ]
  },
  {
   "cell_type": "code",
   "execution_count": 6,
   "metadata": {},
   "outputs": [],
   "source": [
    "cv = CountVectorizer(max_features=5000, stop_words=\"english\")\n",
    "vectors = cv.fit_transform(data[\"tags\"]).toarray()\n",
    "DF = pd.DataFrame(vectors)\n",
    "DF.to_csv(\"data.csv\")"
   ]
  },
  {
   "cell_type": "markdown",
   "metadata": {},
   "source": [
    "### Recommendation using cosine similarity"
   ]
  },
  {
   "cell_type": "code",
   "execution_count": 8,
   "metadata": {},
   "outputs": [],
   "source": [
    "vectors = pd.read_csv(\"data.csv\")"
   ]
  },
  {
   "cell_type": "code",
   "execution_count": 9,
   "metadata": {},
   "outputs": [],
   "source": [
    "similarity = cosine_similarity(vectors)"
   ]
  },
  {
   "cell_type": "code",
   "execution_count": 26,
   "metadata": {},
   "outputs": [],
   "source": [
    "key_df = pd.read_csv(\"../datasets/key_english.csv\")\n",
    "def verse_in(fullverse):\n",
    "    temp = fullverse.split()\n",
    "    if len(temp) == 4:\n",
    "        book = \" \".join(temp[0:2])\n",
    "        chap = temp[2]\n",
    "        verse = temp[3]\n",
    "    else:\n",
    "        book, chap, verse = temp\n",
    "    book = \"b\" + str(key_df[key_df['n'] == book][\"b\"].index[0] + 1)\n",
    "    return \" \".join([book, chap, verse])\n",
    "\n",
    "def verse_out(fullverse):\n",
    "    book, chap, verse = fullverse.split()\n",
    "    chap = chap.replace(\"chapter\", \"\")\n",
    "    verse = verse.replace(\"verse\", \"\")\n",
    "    book = book.replace(\"b\", \"\")\n",
    "    book = key_df.loc[key_df['b'] == int(book),'n'].values[0]\n",
    "    return book + \" \" + chap + \":\" + verse\n",
    "\n",
    "def recommend(verse, data):\n",
    "    verse = data[data['labels']==verse_in(verse)]\n",
    "    if verse.empty:\n",
    "        return False\n",
    "    verse_index = verse.index[0]\n",
    "    distances = similarity[verse_index]\n",
    "    verse_list = sorted(list(enumerate(distances)), reverse=True, key=lambda x:x[1])[1:100]\n",
    "    verse_list = [data.iloc[i[0]].labels for i in verse_list]\n",
    "    verse_list = [verse_out(i) for i in verse_list]\n",
    "    return verse_list"
   ]
  },
  {
   "cell_type": "code",
   "execution_count": 28,
   "metadata": {},
   "outputs": [
    {
     "data": {
      "text/plain": [
       "['1 John 1:8',\n",
       " '3 John 1:15',\n",
       " 'Jude 1:22',\n",
       " 'Colossians 1:14',\n",
       " '1 John 1:6',\n",
       " '1 John 1:4',\n",
       " 'Galatians 1:24',\n",
       " 'Galatians 1:5',\n",
       " 'Ephesians 1:23',\n",
       " 'Luke 24:8',\n",
       " 'Romans 7:20',\n",
       " 'Romans 7:17',\n",
       " 'Romans 6:7',\n",
       " 'Romans 3:10',\n",
       " '1 Corinthians 1:29',\n",
       " '1 Corinthians 1:15',\n",
       " 'Jude 1:19',\n",
       " '1 John 5:17',\n",
       " '1 John 2:10',\n",
       " '1 John 2:4',\n",
       " '1 John 2:2',\n",
       " 'James 1:16',\n",
       " 'Luke 1:62',\n",
       " 'Hebrews 10:18',\n",
       " 'Hebrews 10:17',\n",
       " 'Philemon 1:24',\n",
       " 'Titus 3:10',\n",
       " '2 Timothy 2:17',\n",
       " 'Philemon 1:10',\n",
       " 'Philippians 1:30',\n",
       " 'Philippians 1:24',\n",
       " 'Philippians 1:5',\n",
       " 'John 1:24',\n",
       " 'Ephesians 1:16',\n",
       " 'Ephesians 1:12',\n",
       " 'Mark 9:40',\n",
       " 'Revelation 2:28',\n",
       " '2 John 1:11',\n",
       " '3 John 1:8',\n",
       " '2 John 1:2',\n",
       " 'Romans 1:31',\n",
       " '1 John 3:13',\n",
       " 'Romans 1:12',\n",
       " 'Romans 1:6',\n",
       " '1 John 2:9',\n",
       " '1 John 1:9',\n",
       " 'Acts 24:9',\n",
       " '1 Peter 2:22',\n",
       " 'Hebrews 13:25',\n",
       " 'Hebrews 12:29',\n",
       " 'James 1:8',\n",
       " 'James 1:18',\n",
       " 'Hebrews 7:7',\n",
       " 'Hebrews 7:10',\n",
       " 'Philemon 1:23',\n",
       " 'Philemon 1:2',\n",
       " 'Titus 1:10',\n",
       " '1 Thessalonians 5:25',\n",
       " '1 Thessalonians 5:24',\n",
       " '1 Thessalonians 5:20',\n",
       " 'John 10:30',\n",
       " '1 Thessalonians 5:19',\n",
       " '1 Thessalonians 5:17',\n",
       " '1 Thessalonians 5:16',\n",
       " '1 Timothy 5:20',\n",
       " '1 Timothy 4:5',\n",
       " '1 Timothy 1:6',\n",
       " '1 Thessalonians 4:18',\n",
       " 'Mark 1:36',\n",
       " 'Colossians 4:4',\n",
       " 'Colossians 2:10',\n",
       " 'Ephesians 4:27',\n",
       " 'Colossians 1:19',\n",
       " 'Colossians 1:8',\n",
       " 'Acts 1:1',\n",
       " '1 Thessalonians 1:2',\n",
       " 'Galatians 5:12',\n",
       " 'Philippians 1:21',\n",
       " 'Philippians 1:3',\n",
       " 'Ephesians 5:10',\n",
       " '2 Corinthians 13:13',\n",
       " 'Luke 3:10',\n",
       " 'John 16:9',\n",
       " '2 Corinthians 10:9',\n",
       " 'Ephesians 1:8',\n",
       " 'Philippians 1:4',\n",
       " 'Ephesians 6:10',\n",
       " '2 Corinthians 3:4',\n",
       " '1 Corinthians 16:4',\n",
       " 'Galatians 1:2',\n",
       " '1 Corinthians 13:9',\n",
       " '1 Corinthians 12:19',\n",
       " '1 Corinthians 12:5',\n",
       " '2 Corinthians 1:21',\n",
       " '1 Corinthians 4:18',\n",
       " 'Romans 16:14',\n",
       " '1 Corinthians 14:10',\n",
       " '1 Corinthians 13:10',\n",
       " '2 Corinthians 1:18']"
      ]
     },
     "execution_count": 28,
     "metadata": {},
     "output_type": "execute_result"
    }
   ],
   "source": [
    "recommend(\"1 John chapter1 verse10\", data)"
   ]
  }
 ],
 "metadata": {
  "kernelspec": {
   "display_name": "Python 3",
   "language": "python",
   "name": "python3"
  },
  "language_info": {
   "codemirror_mode": {
    "name": "ipython",
    "version": 3
   },
   "file_extension": ".py",
   "mimetype": "text/x-python",
   "name": "python",
   "nbconvert_exporter": "python",
   "pygments_lexer": "ipython3",
   "version": "3.10.11"
  }
 },
 "nbformat": 4,
 "nbformat_minor": 2
}

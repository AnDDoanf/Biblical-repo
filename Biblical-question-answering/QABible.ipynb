{
  "cells": [
    {
      "cell_type": "markdown",
      "metadata": {
        "id": "view-in-github",
        "colab_type": "text"
      },
      "source": [
        "<a href=\"https://colab.research.google.com/github/AnDDoanf/Biblical_NLP_task/blob/master/quesans/QABible.ipynb\" target=\"_parent\"><img src=\"https://colab.research.google.com/assets/colab-badge.svg\" alt=\"Open In Colab\"/></a>"
      ]
    },
    {
      "cell_type": "markdown",
      "source": [
        "### Import modules"
      ],
      "metadata": {
        "id": "zFRge6EAWbcx"
      }
    },
    {
      "cell_type": "code",
      "execution_count": null,
      "metadata": {
        "colab": {
          "base_uri": "https://localhost:8080/"
        },
        "id": "4Yx0b7QJM91R",
        "outputId": "57d72403-b81c-44ce-bd9b-4417006c0afa"
      },
      "outputs": [
        {
          "output_type": "stream",
          "name": "stdout",
          "text": [
            "Looking in indexes: https://pypi.org/simple, https://us-python.pkg.dev/colab-wheels/public/simple/\n",
            "Requirement already satisfied: bs4 in /usr/local/lib/python3.9/dist-packages (0.0.1)\n",
            "Requirement already satisfied: beautifulsoup4 in /usr/local/lib/python3.9/dist-packages (from bs4) (4.11.2)\n",
            "Requirement already satisfied: soupsieve>1.2 in /usr/local/lib/python3.9/dist-packages (from beautifulsoup4->bs4) (2.4)\n",
            "Looking in indexes: https://pypi.org/simple, https://us-python.pkg.dev/colab-wheels/public/simple/\n",
            "Requirement already satisfied: html2text in /usr/local/lib/python3.9/dist-packages (2020.1.16)\n",
            "Looking in indexes: https://pypi.org/simple, https://us-python.pkg.dev/colab-wheels/public/simple/\n",
            "Requirement already satisfied: mechanize in /usr/local/lib/python3.9/dist-packages (0.4.8)\n",
            "Requirement already satisfied: html5lib>=0.999999999 in /usr/local/lib/python3.9/dist-packages (from mechanize) (1.1)\n",
            "Requirement already satisfied: webencodings in /usr/local/lib/python3.9/dist-packages (from html5lib>=0.999999999->mechanize) (0.5.1)\n",
            "Requirement already satisfied: six>=1.9 in /usr/local/lib/python3.9/dist-packages (from html5lib>=0.999999999->mechanize) (1.16.0)\n"
          ]
        }
      ],
      "source": [
        "!pip install bs4\n",
        "!pip install html2text\n",
        "!pip install mechanize"
      ]
    },
    {
      "cell_type": "markdown",
      "source": [
        "### Crawl data from GOT"
      ],
      "metadata": {
        "id": "kj555hrTWYQ9"
      }
    },
    {
      "cell_type": "code",
      "execution_count": null,
      "metadata": {
        "id": "Z3PH7Y0nNXVu"
      },
      "outputs": [],
      "source": [
        "import mechanize\n",
        "import nltk\n",
        "from bs4 import BeautifulSoup\n",
        "import re\n",
        "\n",
        "def getdata(url):\n",
        "  br = mechanize.Browser()\n",
        "  br.set_handle_robots(False)\n",
        "  br.addheaders = [('User-agent', 'Firefox')]\n",
        "  html = br.open(url).read().decode('utf-8')\n",
        "  soup = BeautifulSoup(html)\n",
        "  text2 = soup.get_text()\n",
        "  question = text2[text2.index(\"Question\"):text2.index(\"Answer\")].replace(\"\\n\", \"\").replace(\"Question: \", \"\").replace(\"\\\"\",\"\").strip()\n",
        "  answer = text2[text2.index(\"Answer\"):text2.index(\"www.GotQuestions.org\")].replace(\"\\n\", \"\").replace(\"Answer: \", \"\").strip()\n",
        "  return [question, answer]"
      ]
    },
    {
      "cell_type": "code",
      "execution_count": null,
      "metadata": {
        "id": "LcV7XRMfNsaP"
      },
      "outputs": [],
      "source": [
        "import pandas as pd\n",
        "lst = []\n",
        "for i in range (5, 3551):\n",
        "  temp = getdata(\"https://printer.gotquestions.net/GeneratePF?articleId=\"+str(i))\n",
        "  lst.append(temp)\n"
      ]
    },
    {
      "cell_type": "code",
      "execution_count": null,
      "metadata": {
        "id": "3A9xeGOXPzPO"
      },
      "outputs": [],
      "source": [
        "data = pd.DataFrame(lst, columns= [\"Question\", \"Answer\"])"
      ]
    },
    {
      "cell_type": "code",
      "execution_count": null,
      "metadata": {
        "colab": {
          "base_uri": "https://localhost:8080/",
          "height": 545
        },
        "id": "1WEB9YvJSF-A",
        "outputId": "d5f21945-19f5-474f-a23a-c745a9d0a38d"
      },
      "outputs": [
        {
          "data": {
            "text/html": [
              "\n",
              "  <div id=\"df-f35b14a3-c5ca-40c8-8a02-99658c944e99\">\n",
              "    <div class=\"colab-df-container\">\n",
              "      <div>\n",
              "<style scoped>\n",
              "    .dataframe tbody tr th:only-of-type {\n",
              "        vertical-align: middle;\n",
              "    }\n",
              "\n",
              "    .dataframe tbody tr th {\n",
              "        vertical-align: top;\n",
              "    }\n",
              "\n",
              "    .dataframe thead th {\n",
              "        text-align: right;\n",
              "    }\n",
              "</style>\n",
              "<table border=\"1\" class=\"dataframe\">\n",
              "  <thead>\n",
              "    <tr style=\"text-align: right;\">\n",
              "      <th></th>\n",
              "      <th>Question</th>\n",
              "      <th>Answer</th>\n",
              "    </tr>\n",
              "  </thead>\n",
              "  <tbody>\n",
              "    <tr>\n",
              "      <th>0</th>\n",
              "      <td>How can I know if something is a sin?</td>\n",
              "      <td>There are two issues involved in this question...</td>\n",
              "    </tr>\n",
              "    <tr>\n",
              "      <th>1</th>\n",
              "      <td>How can I know for sure that I will go to heav...</td>\n",
              "      <td>Do you know for certain that you have eternal ...</td>\n",
              "    </tr>\n",
              "    <tr>\n",
              "      <th>2</th>\n",
              "      <td>What is the key to truly knowing God?</td>\n",
              "      <td>Within all of us there exists a strong desire ...</td>\n",
              "    </tr>\n",
              "    <tr>\n",
              "      <th>3</th>\n",
              "      <td>What is koinonia?</td>\n",
              "      <td>Koinonia is a Greek word that occurs 20 times ...</td>\n",
              "    </tr>\n",
              "    <tr>\n",
              "      <th>4</th>\n",
              "      <td>Are apparitions of Mary, such as Lady Fatima, ...</td>\n",
              "      <td>In Catholic tradition, there are many reported...</td>\n",
              "    </tr>\n",
              "    <tr>\n",
              "      <th>5</th>\n",
              "      <td>What are infralapsarianism, sublapsarianism, a...</td>\n",
              "      <td>These three theological terms, discussed among...</td>\n",
              "    </tr>\n",
              "    <tr>\n",
              "      <th>6</th>\n",
              "      <td>What are the Christian themes in The Last Battle?</td>\n",
              "      <td>Titled accordingly, The Last Battle is the fin...</td>\n",
              "    </tr>\n",
              "    <tr>\n",
              "      <th>7</th>\n",
              "      <td>Did the people in the Bible have last names?</td>\n",
              "      <td>People in Bible times did not really have last...</td>\n",
              "    </tr>\n",
              "    <tr>\n",
              "      <th>8</th>\n",
              "      <td>What is the Latin Vulgate Bible?</td>\n",
              "      <td>“The Vulgate” is the popular name given to the...</td>\n",
              "    </tr>\n",
              "    <tr>\n",
              "      <th>9</th>\n",
              "      <td>What is the Latter Rain Movement?</td>\n",
              "      <td>The Latter Rain Movement is an influence withi...</td>\n",
              "    </tr>\n",
              "  </tbody>\n",
              "</table>\n",
              "</div>\n",
              "      <button class=\"colab-df-convert\" onclick=\"convertToInteractive('df-f35b14a3-c5ca-40c8-8a02-99658c944e99')\"\n",
              "              title=\"Convert this dataframe to an interactive table.\"\n",
              "              style=\"display:none;\">\n",
              "        \n",
              "  <svg xmlns=\"http://www.w3.org/2000/svg\" height=\"24px\"viewBox=\"0 0 24 24\"\n",
              "       width=\"24px\">\n",
              "    <path d=\"M0 0h24v24H0V0z\" fill=\"none\"/>\n",
              "    <path d=\"M18.56 5.44l.94 2.06.94-2.06 2.06-.94-2.06-.94-.94-2.06-.94 2.06-2.06.94zm-11 1L8.5 8.5l.94-2.06 2.06-.94-2.06-.94L8.5 2.5l-.94 2.06-2.06.94zm10 10l.94 2.06.94-2.06 2.06-.94-2.06-.94-.94-2.06-.94 2.06-2.06.94z\"/><path d=\"M17.41 7.96l-1.37-1.37c-.4-.4-.92-.59-1.43-.59-.52 0-1.04.2-1.43.59L10.3 9.45l-7.72 7.72c-.78.78-.78 2.05 0 2.83L4 21.41c.39.39.9.59 1.41.59.51 0 1.02-.2 1.41-.59l7.78-7.78 2.81-2.81c.8-.78.8-2.07 0-2.86zM5.41 20L4 18.59l7.72-7.72 1.47 1.35L5.41 20z\"/>\n",
              "  </svg>\n",
              "      </button>\n",
              "      \n",
              "  <style>\n",
              "    .colab-df-container {\n",
              "      display:flex;\n",
              "      flex-wrap:wrap;\n",
              "      gap: 12px;\n",
              "    }\n",
              "\n",
              "    .colab-df-convert {\n",
              "      background-color: #E8F0FE;\n",
              "      border: none;\n",
              "      border-radius: 50%;\n",
              "      cursor: pointer;\n",
              "      display: none;\n",
              "      fill: #1967D2;\n",
              "      height: 32px;\n",
              "      padding: 0 0 0 0;\n",
              "      width: 32px;\n",
              "    }\n",
              "\n",
              "    .colab-df-convert:hover {\n",
              "      background-color: #E2EBFA;\n",
              "      box-shadow: 0px 1px 2px rgba(60, 64, 67, 0.3), 0px 1px 3px 1px rgba(60, 64, 67, 0.15);\n",
              "      fill: #174EA6;\n",
              "    }\n",
              "\n",
              "    [theme=dark] .colab-df-convert {\n",
              "      background-color: #3B4455;\n",
              "      fill: #D2E3FC;\n",
              "    }\n",
              "\n",
              "    [theme=dark] .colab-df-convert:hover {\n",
              "      background-color: #434B5C;\n",
              "      box-shadow: 0px 1px 3px 1px rgba(0, 0, 0, 0.15);\n",
              "      filter: drop-shadow(0px 1px 2px rgba(0, 0, 0, 0.3));\n",
              "      fill: #FFFFFF;\n",
              "    }\n",
              "  </style>\n",
              "\n",
              "      <script>\n",
              "        const buttonEl =\n",
              "          document.querySelector('#df-f35b14a3-c5ca-40c8-8a02-99658c944e99 button.colab-df-convert');\n",
              "        buttonEl.style.display =\n",
              "          google.colab.kernel.accessAllowed ? 'block' : 'none';\n",
              "\n",
              "        async function convertToInteractive(key) {\n",
              "          const element = document.querySelector('#df-f35b14a3-c5ca-40c8-8a02-99658c944e99');\n",
              "          const dataTable =\n",
              "            await google.colab.kernel.invokeFunction('convertToInteractive',\n",
              "                                                     [key], {});\n",
              "          if (!dataTable) return;\n",
              "\n",
              "          const docLinkHtml = 'Like what you see? Visit the ' +\n",
              "            '<a target=\"_blank\" href=https://colab.research.google.com/notebooks/data_table.ipynb>data table notebook</a>'\n",
              "            + ' to learn more about interactive tables.';\n",
              "          element.innerHTML = '';\n",
              "          dataTable['output_type'] = 'display_data';\n",
              "          await google.colab.output.renderOutput(dataTable, element);\n",
              "          const docLink = document.createElement('div');\n",
              "          docLink.innerHTML = docLinkHtml;\n",
              "          element.appendChild(docLink);\n",
              "        }\n",
              "      </script>\n",
              "    </div>\n",
              "  </div>\n",
              "  "
            ],
            "text/plain": [
              "                                            Question  \\\n",
              "0              How can I know if something is a sin?   \n",
              "1  How can I know for sure that I will go to heav...   \n",
              "2              What is the key to truly knowing God?   \n",
              "3                                  What is koinonia?   \n",
              "4  Are apparitions of Mary, such as Lady Fatima, ...   \n",
              "5  What are infralapsarianism, sublapsarianism, a...   \n",
              "6  What are the Christian themes in The Last Battle?   \n",
              "7       Did the people in the Bible have last names?   \n",
              "8                   What is the Latin Vulgate Bible?   \n",
              "9                  What is the Latter Rain Movement?   \n",
              "\n",
              "                                              Answer  \n",
              "0  There are two issues involved in this question...  \n",
              "1  Do you know for certain that you have eternal ...  \n",
              "2  Within all of us there exists a strong desire ...  \n",
              "3  Koinonia is a Greek word that occurs 20 times ...  \n",
              "4  In Catholic tradition, there are many reported...  \n",
              "5  These three theological terms, discussed among...  \n",
              "6  Titled accordingly, The Last Battle is the fin...  \n",
              "7  People in Bible times did not really have last...  \n",
              "8  “The Vulgate” is the popular name given to the...  \n",
              "9  The Latter Rain Movement is an influence withi...  "
            ]
          },
          "execution_count": 7,
          "metadata": {},
          "output_type": "execute_result"
        }
      ],
      "source": [
        "data[:10]"
      ]
    },
    {
      "cell_type": "code",
      "execution_count": null,
      "metadata": {
        "colab": {
          "background_save": true
        },
        "id": "BZdPZrkaU2VA"
      },
      "outputs": [],
      "source": [
        "data[:10].to_csv(\"QA_Bible_Dataset.csv\", encoding=\"utf-8\")"
      ]
    },
    {
      "cell_type": "markdown",
      "source": [
        "### Crawl data from Enduring World"
      ],
      "metadata": {
        "id": "CvYsetzDWQ2m"
      }
    },
    {
      "cell_type": "code",
      "source": [
        "def getdata2(url):\n",
        "  br = mechanize.Browser()\n",
        "  br.set_handle_robots(False)\n",
        "  br.addheaders = [('User-agent', 'Firefox')]\n",
        "  html = br.open(url).read().decode('utf-8')\n",
        "  soup = BeautifulSoup(html)\n",
        "  start = str(soup).find(\"<h3>\")\n",
        "  end = str(soup).find('Bible Commentary Quick Navigation')\n",
        "  text2 = BeautifulSoup(str(soup)[start:end]).get_text()\n",
        "  return text2"
      ],
      "metadata": {
        "id": "jjpVtqJlZU9s"
      },
      "execution_count": null,
      "outputs": []
    },
    {
      "cell_type": "code",
      "source": [
        "import os\n",
        "import shutil\n",
        "\n",
        "datadir = \"bible_commentary_dataset\"\n",
        "if os.path.exists(datadir):\n",
        "  shutil.rmtree(datadir)\n",
        "os.mkdir(datadir)\n",
        "\n",
        "# Crawl mannually with joshua and 1-chronicles\n",
        "OTbooks = [[\"genesis\", 50], [\"exodus\", 40], [\"leviticus\", 27], [\"numbers\", 36], [\"deuteronomy\", 34], [\"joshua\", 14], \n",
        "         [\"judges\", 21], [\"ruth\", 4], [\"1-samuel\", 31], [\"2-samuel\", 24], [\"1-kings\", 22], [\"2-kings\", 25], \n",
        "         [\"1-chronicles\", 3], [\"2-chronicles\", 36], [\"ezra\", 10], [\"nehemiah\", 13], [\"esther\", 10], [\"job\", 42], \n",
        "         [\"psalm\", 150], [\"proverbs\", 31], [\"ecclesiastes\", 12], [\"song-of-solomon\", 8], [\"isaiah\", 66], [\"jeremiah\", 52],\n",
        "         [\"lamentations\", 5], [\"ezekiel\", 48], [\"daniel\", 12], [\"hosea\", 14], [\"joel\", 3], [\"amos\", 9],\n",
        "         [\"obadiah\", 1], [\"jonah\", 4], [\"micah\", 1], [\"nahum\", 3], [\"habakkuk\", 3], [\"zephaniah\", 3],\n",
        "         [\"haggai\", 2], [\"zechariah\", 14], [\"malachi\", 4]]\n",
        "\n",
        "\n",
        "for book_index, book in enumerate(OTbooks):\n",
        "  if book_index < 9:\n",
        "    bookdir = os.path.join(datadir,\"0\"+str(book_index+1)+\"_\"+book[0])\n",
        "  else:\n",
        "    bookdir = os.path.join(datadir,str(book_index+1)+\"_\"+book[0])\n",
        "  if os.path.exists(bookdir):\n",
        "    shutil.rmtree(bookdir)\n",
        "  os.mkdir(bookdir)\n",
        "  for chapter in range (1, book[1]+1):\n",
        "    temp = getdata2(\"https://enduringword.com/bible-commentary/\"+book[0]+\"-\"+str(chapter)+\"/\")\n",
        "    if chapter < 10:\n",
        "      with open(os.path.join(bookdir,book[0]+\"00\"+str(chapter)+\".txt\"), \"w\") as f:\n",
        "          f.write(temp)\n",
        "    elif chapter < 100:\n",
        "      with open(os.path.join(bookdir,book[0]+\"0\"+str(chapter)+\".txt\"), \"w\") as f:\n",
        "          f.write(temp)\n",
        "    else: \n",
        "      with open(os.path.join(bookdir,book[0]+str(chapter)+\".txt\"), \"w\") as f:\n",
        "          f.write(temp)"
      ],
      "metadata": {
        "id": "ajDdQzp6Y5lA"
      },
      "execution_count": null,
      "outputs": []
    },
    {
      "cell_type": "code",
      "source": [
        "!zip -r /content/bible_commentary_dataset.zip /content/bible_commentary_dataset"
      ],
      "metadata": {
        "id": "xCqSYCcUHeZk"
      },
      "execution_count": null,
      "outputs": []
    },
    {
      "cell_type": "markdown",
      "source": [
        "### Load data"
      ],
      "metadata": {
        "id": "vLoYeB2fIS1e"
      }
    },
    {
      "cell_type": "code",
      "source": [
        "def txt2paragraph(file):\n",
        "  text = open(file).read()\n",
        "  replace_list = ['A. ', 'B.', 'C.', 'D.', 'E.', 'F.', 'G.', 'H.', 'I.', 'J.', 'K.', 'L.', 'M.', 'N.', 'O.', 'P.', \n",
        "                  '\\n1.','\\n2.','\\n3.','\\n4.', '\\n5.','\\n6.', '\\n7.','\\n8.' '\\n9.','\\n10.',\n",
        "                  '\\n·', '\\na.', '\\nb.', '\\nc.', '\\nd.', '\\ne.', '\\nf.', '\\ng.', '\\nh.', '\\ni.', '\\nj.', '\\nk.', '\\nl.', '\\nm.', '\\nn.', '\\no.', '\\np.',\n",
        "                  '\\ni.', '\\nii.', '\\niii.', '\\niv.', '\\nv.', '\\nvi.', '\\nvii.', '\\nviii.', '\\nix.', '\\nx.', '\\nxi.']\n",
        "  \n",
        "  import re\n",
        "  clean = re.sub(r'|'.join(map(re.escape, replace_list)), '', text)\n",
        "\n",
        "  clean = re.sub('.\\n', '. ', clean)\n",
        "  clean = re.sub('\\n', '', clean)\n",
        "  return clean.split(\".\")[:-3]"
      ],
      "metadata": {
        "id": "CoEER_k0zdWO"
      },
      "execution_count": null,
      "outputs": []
    },
    {
      "cell_type": "code",
      "source": [
        "lst = []\n",
        "datasetdir = \"/content/bible_commentary_dataset\"\n",
        "for bookdir in sorted(os.listdir(datasetdir)):\n",
        "  temp = []\n",
        "  for chapterdir in sorted(os.listdir(os.path.join(datasetdir, bookdir))):\n",
        "    temp.append(txt2paragraph(os.path.join(datasetdir, bookdir, chapterdir)))\n",
        "  lst.append(temp)"
      ],
      "metadata": {
        "id": "ujcV3DeR2SSQ"
      },
      "execution_count": null,
      "outputs": []
    }
  ],
  "metadata": {
    "colab": {
      "provenance": [],
      "collapsed_sections": [
        "zFRge6EAWbcx",
        "kj555hrTWYQ9"
      ],
      "authorship_tag": "ABX9TyPbeCPfiPqD/Ql+T7udEVR8",
      "include_colab_link": true
    },
    "gpuClass": "standard",
    "kernelspec": {
      "display_name": "Python 3",
      "name": "python3"
    },
    "language_info": {
      "name": "python"
    }
  },
  "nbformat": 4,
  "nbformat_minor": 0
}